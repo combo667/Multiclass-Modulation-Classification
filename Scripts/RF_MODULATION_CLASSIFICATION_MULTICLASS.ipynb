{
  "nbformat": 4,
  "nbformat_minor": 0,
  "metadata": {
    "colab": {
      "provenance": [],
      "gpuType": "T4"
    },
    "kernelspec": {
      "name": "python3",
      "display_name": "Python 3"
    },
    "language_info": {
      "name": "python"
    },
    "accelerator": "GPU"
  },
  "cells": [
    {
      "cell_type": "code",
      "execution_count": 1,
      "metadata": {
        "colab": {
          "base_uri": "https://localhost:8080/"
        },
        "id": "L-eCCyO0Uho4",
        "outputId": "510bd5fb-b742-48d3-d81a-da17b1da4830"
      },
      "outputs": [
        {
          "output_type": "stream",
          "name": "stdout",
          "text": [
            "Collecting split-folders\n",
            "  Downloading split_folders-0.5.1-py3-none-any.whl (8.4 kB)\n",
            "Installing collected packages: split-folders\n",
            "Successfully installed split-folders-0.5.1\n"
          ]
        }
      ],
      "source": [
        "pip install split-folders"
      ]
    },
    {
      "cell_type": "code",
      "source": [
        "from google.colab import drive\n",
        "drive.mount('/content/drive')"
      ],
      "metadata": {
        "colab": {
          "base_uri": "https://localhost:8080/"
        },
        "id": "wQGZFpMAVUom",
        "outputId": "73b1cc2b-78a1-48ca-a63d-183cd47e0211"
      },
      "execution_count": 2,
      "outputs": [
        {
          "output_type": "stream",
          "name": "stdout",
          "text": [
            "Mounted at /content/drive\n"
          ]
        }
      ]
    },
    {
      "cell_type": "code",
      "source": [
        "import shutil\n",
        "\n",
        "# Path to the file in Google Drive\n",
        "file_path = '/content/drive/My Drive/dataset_backup.zip'\n",
        "\n",
        "# Destination path in /content/\n",
        "destination_path = '/content/dataset_backup.zip'\n",
        "\n",
        "# Copy the file\n",
        "shutil.copy(file_path, destination_path)"
      ],
      "metadata": {
        "colab": {
          "base_uri": "https://localhost:8080/",
          "height": 35
        },
        "id": "i2VxOU-hVabA",
        "outputId": "cd92f779-7c75-4485-d006-9ecf8232ad4b"
      },
      "execution_count": 3,
      "outputs": [
        {
          "output_type": "execute_result",
          "data": {
            "text/plain": [
              "'/content/dataset_backup.zip'"
            ],
            "application/vnd.google.colaboratory.intrinsic+json": {
              "type": "string"
            }
          },
          "metadata": {},
          "execution_count": 3
        }
      ]
    },
    {
      "cell_type": "code",
      "source": [
        "import zipfile\n",
        "\n",
        "zip_path = 'dataset_backup.zip'  # Replace with the path to your zip file\n",
        "extract_to = '/content/'  # Replace with the directory where you want to extract the contents\n",
        "\n",
        "with zipfile.ZipFile(zip_path, 'r') as zip_ref:\n",
        "    zip_ref.extractall(extract_to)\n",
        "\n",
        "print(f\"Extracted '{zip_path}' to '{extract_to}'\")\n"
      ],
      "metadata": {
        "colab": {
          "base_uri": "https://localhost:8080/"
        },
        "id": "3d_ku4rpVmRf",
        "outputId": "911fd124-c840-4a55-9e26-6c39d2cb8358"
      },
      "execution_count": 4,
      "outputs": [
        {
          "output_type": "stream",
          "name": "stdout",
          "text": [
            "Extracted 'dataset_backup.zip' to '/content/'\n"
          ]
        }
      ]
    },
    {
      "cell_type": "code",
      "source": [
        "import numpy as np\n",
        "import splitfolders\n",
        "import tensorflow.keras as keras\n",
        "import tensorflow as tf\n",
        "from keras.models import Sequential\n",
        "from keras.layers import Dense, Conv2D, MaxPool2D, Flatten,Dropout\n",
        "from tensorflow.keras.preprocessing.image import ImageDataGenerator,load_img\n",
        "from tensorflow.keras.applications import VGG16\n",
        "import matplotlib.pyplot as plt\n",
        "from keras.optimizers import Adam\n",
        "from keras.callbacks import ModelCheckpoint, EarlyStopping\n",
        "from keras.losses import categorical_crossentropy\n",
        "import os\n",
        "from sklearn.metrics import confusion_matrix, ConfusionMatrixDisplay\n",
        "\n",
        "splitfolders.ratio('/content/dataset_backup/dataset',output='/content/datasplit', seed=1337, ratio=(0.7,0.2,0.1),group_prefix=None, move=False)\n",
        "\n",
        "class_names=[\"2ASK\",\"2FSK\",\"4FSK\",\"8FSK\",\"BPSK\",\"QAM16\"]\n",
        "\n",
        "#weights_path = 'E:/Drone_Signal_Classification/WITH_NOISE/Elsec_Dataset/weights/vgg16_weights_tf_dim_ordering_tf_kernels_notop.h5'\n",
        "\n",
        "\n",
        "datagen = ImageDataGenerator(rescale = 1./255)\n",
        "\n",
        "train_generator = datagen.flow_from_directory(\n",
        "    directory = \"/content/datasplit/train\",\n",
        "    classes = class_names,\n",
        "    target_size = (224,224),\n",
        "    batch_size = 16,\n",
        "    class_mode = \"categorical\",\n",
        "    subset=\"training\"\n",
        ")\n",
        "\n",
        "\n",
        "valid_generator = datagen.flow_from_directory(\n",
        "    directory = \"/content/datasplit/val\",\n",
        "    classes = class_names,\n",
        "    target_size = (224,224),\n",
        "    batch_size = 16,\n",
        "    class_mode = \"categorical\",\n",
        ")\n",
        "\n",
        "test_generator = datagen.flow_from_directory(\n",
        "    directory = \"/content/datasplit/test\",\n",
        "    classes = class_names,\n",
        "    target_size = (224,224),\n",
        "    batch_size = 8,\n",
        "    class_mode = \"categorical\",\n",
        "    shuffle = False\n",
        ")\n",
        "\n",
        "\n",
        "model_vgg16 = VGG16(input_shape=(224,224,3),include_top = False,weights =\"imagenet\")\n",
        "\n",
        "for layer in model_vgg16.layers:\n",
        "  layer.trainable=False\n",
        "\n",
        "\n",
        "model = Sequential()\n",
        "model.add(model_vgg16)\n",
        "model.add(Flatten())\n",
        "model.add(Dense(512,activation = \"relu\"))\n",
        "model.add(Dropout(0.5))\n",
        "model.add(Dense(6,activation =\"softmax\"))\n",
        "\n",
        "model.summary()\n",
        "\n",
        "model.compile(optimizer=\"adam\",loss=\"categorical_crossentropy\",metrics =[\"accuracy\"])\n",
        "\n"
      ],
      "metadata": {
        "colab": {
          "base_uri": "https://localhost:8080/"
        },
        "id": "oHnM7uO8Vs20",
        "outputId": "982b626d-2e7f-485d-dd86-735d136919da"
      },
      "execution_count": 6,
      "outputs": [
        {
          "output_type": "stream",
          "name": "stderr",
          "text": [
            "Copying files: 30000 files [00:04, 7252.53 files/s]\n"
          ]
        },
        {
          "output_type": "stream",
          "name": "stdout",
          "text": [
            "Found 21000 images belonging to 6 classes.\n",
            "Found 6000 images belonging to 6 classes.\n",
            "Found 3000 images belonging to 6 classes.\n",
            "Downloading data from https://storage.googleapis.com/tensorflow/keras-applications/vgg16/vgg16_weights_tf_dim_ordering_tf_kernels_notop.h5\n",
            "58889256/58889256 [==============================] - 0s 0us/step\n",
            "Model: \"sequential\"\n",
            "_________________________________________________________________\n",
            " Layer (type)                Output Shape              Param #   \n",
            "=================================================================\n",
            " vgg16 (Functional)          (None, 7, 7, 512)         14714688  \n",
            "                                                                 \n",
            " flatten (Flatten)           (None, 25088)             0         \n",
            "                                                                 \n",
            " dense (Dense)               (None, 512)               12845568  \n",
            "                                                                 \n",
            " dropout (Dropout)           (None, 512)               0         \n",
            "                                                                 \n",
            " dense_1 (Dense)             (None, 6)                 3078      \n",
            "                                                                 \n",
            "=================================================================\n",
            "Total params: 27563334 (105.15 MB)\n",
            "Trainable params: 12848646 (49.01 MB)\n",
            "Non-trainable params: 14714688 (56.13 MB)\n",
            "_________________________________________________________________\n"
          ]
        }
      ]
    },
    {
      "cell_type": "code",
      "source": [
        "history = model.fit(train_generator,validation_data = valid_generator,epochs = 30)"
      ],
      "metadata": {
        "colab": {
          "base_uri": "https://localhost:8080/"
        },
        "id": "FL1cBrbxV8ci",
        "outputId": "12cea5f4-817d-4afd-f56b-ab954e119aa0"
      },
      "execution_count": 7,
      "outputs": [
        {
          "output_type": "stream",
          "name": "stdout",
          "text": [
            "Epoch 1/30\n",
            "1313/1313 [==============================] - 124s 89ms/step - loss: 0.5952 - accuracy: 0.7512 - val_loss: 0.3657 - val_accuracy: 0.8317\n",
            "Epoch 2/30\n",
            "1313/1313 [==============================] - 115s 88ms/step - loss: 0.4517 - accuracy: 0.7929 - val_loss: 0.3746 - val_accuracy: 0.8277\n",
            "Epoch 3/30\n",
            "1313/1313 [==============================] - 115s 88ms/step - loss: 0.4294 - accuracy: 0.8046 - val_loss: 0.3373 - val_accuracy: 0.8490\n",
            "Epoch 4/30\n",
            "1313/1313 [==============================] - 115s 88ms/step - loss: 0.4028 - accuracy: 0.8146 - val_loss: 0.3346 - val_accuracy: 0.8475\n",
            "Epoch 5/30\n",
            "1313/1313 [==============================] - 115s 88ms/step - loss: 0.4053 - accuracy: 0.8160 - val_loss: 0.3291 - val_accuracy: 0.8473\n",
            "Epoch 6/30\n",
            "1313/1313 [==============================] - 115s 88ms/step - loss: 0.3905 - accuracy: 0.8188 - val_loss: 0.3529 - val_accuracy: 0.8483\n",
            "Epoch 7/30\n",
            "1313/1313 [==============================] - 116s 88ms/step - loss: 0.3882 - accuracy: 0.8193 - val_loss: 0.3201 - val_accuracy: 0.8607\n",
            "Epoch 8/30\n",
            "1313/1313 [==============================] - 115s 88ms/step - loss: 0.3758 - accuracy: 0.8285 - val_loss: 0.3389 - val_accuracy: 0.8555\n",
            "Epoch 9/30\n",
            "1313/1313 [==============================] - 116s 88ms/step - loss: 0.3741 - accuracy: 0.8259 - val_loss: 0.3074 - val_accuracy: 0.8615\n",
            "Epoch 10/30\n",
            "1313/1313 [==============================] - 115s 88ms/step - loss: 0.3579 - accuracy: 0.8342 - val_loss: 0.3154 - val_accuracy: 0.8622\n",
            "Epoch 11/30\n",
            "1313/1313 [==============================] - 116s 88ms/step - loss: 0.3615 - accuracy: 0.8323 - val_loss: 0.3178 - val_accuracy: 0.8673\n",
            "Epoch 12/30\n",
            "1313/1313 [==============================] - 115s 88ms/step - loss: 0.3524 - accuracy: 0.8390 - val_loss: 0.3000 - val_accuracy: 0.8667\n",
            "Epoch 13/30\n",
            "1313/1313 [==============================] - 114s 87ms/step - loss: 0.3508 - accuracy: 0.8347 - val_loss: 0.3230 - val_accuracy: 0.8632\n",
            "Epoch 14/30\n",
            "1313/1313 [==============================] - 111s 85ms/step - loss: 0.3371 - accuracy: 0.8449 - val_loss: 0.3070 - val_accuracy: 0.8678\n",
            "Epoch 15/30\n",
            "1313/1313 [==============================] - 113s 86ms/step - loss: 0.3496 - accuracy: 0.8376 - val_loss: 0.2982 - val_accuracy: 0.8715\n",
            "Epoch 16/30\n",
            "1313/1313 [==============================] - 114s 87ms/step - loss: 0.3436 - accuracy: 0.8420 - val_loss: 0.3246 - val_accuracy: 0.8668\n",
            "Epoch 17/30\n",
            "1313/1313 [==============================] - 132s 100ms/step - loss: 0.3554 - accuracy: 0.8357 - val_loss: 0.3182 - val_accuracy: 0.8543\n",
            "Epoch 18/30\n",
            "1313/1313 [==============================] - 132s 101ms/step - loss: 0.3281 - accuracy: 0.8478 - val_loss: 0.3024 - val_accuracy: 0.8693\n",
            "Epoch 19/30\n",
            "1313/1313 [==============================] - 132s 101ms/step - loss: 0.3276 - accuracy: 0.8470 - val_loss: 0.3070 - val_accuracy: 0.8665\n",
            "Epoch 20/30\n",
            "1313/1313 [==============================] - 132s 101ms/step - loss: 0.3263 - accuracy: 0.8445 - val_loss: 0.3340 - val_accuracy: 0.8488\n",
            "Epoch 21/30\n",
            "1313/1313 [==============================] - 116s 88ms/step - loss: 0.3175 - accuracy: 0.8486 - val_loss: 0.3247 - val_accuracy: 0.8657\n",
            "Epoch 22/30\n",
            "1313/1313 [==============================] - 115s 88ms/step - loss: 0.3318 - accuracy: 0.8456 - val_loss: 0.3184 - val_accuracy: 0.8675\n",
            "Epoch 23/30\n",
            "1313/1313 [==============================] - 116s 88ms/step - loss: 0.3298 - accuracy: 0.8463 - val_loss: 0.3092 - val_accuracy: 0.8652\n",
            "Epoch 24/30\n",
            "1313/1313 [==============================] - 116s 88ms/step - loss: 0.3336 - accuracy: 0.8431 - val_loss: 0.3233 - val_accuracy: 0.8693\n",
            "Epoch 25/30\n",
            "1313/1313 [==============================] - 116s 88ms/step - loss: 0.3164 - accuracy: 0.8530 - val_loss: 0.3250 - val_accuracy: 0.8678\n",
            "Epoch 26/30\n",
            "1313/1313 [==============================] - 133s 101ms/step - loss: 0.3125 - accuracy: 0.8524 - val_loss: 0.3041 - val_accuracy: 0.8650\n",
            "Epoch 27/30\n",
            "1313/1313 [==============================] - 116s 88ms/step - loss: 0.3115 - accuracy: 0.8535 - val_loss: 0.3042 - val_accuracy: 0.8673\n",
            "Epoch 28/30\n",
            "1313/1313 [==============================] - 115s 88ms/step - loss: 0.3248 - accuracy: 0.8487 - val_loss: 0.3139 - val_accuracy: 0.8603\n",
            "Epoch 29/30\n",
            "1313/1313 [==============================] - 115s 88ms/step - loss: 0.3153 - accuracy: 0.8510 - val_loss: 0.3063 - val_accuracy: 0.8715\n",
            "Epoch 30/30\n",
            "1313/1313 [==============================] - 116s 88ms/step - loss: 0.3119 - accuracy: 0.8524 - val_loss: 0.2909 - val_accuracy: 0.8680\n"
          ]
        }
      ]
    },
    {
      "cell_type": "code",
      "source": [
        "test_loss, test_acc = model.evaluate(test_generator)\n",
        "print(\"test loss: \", test_loss)\n",
        "print(\"test accuracy: \", test_acc*100)"
      ],
      "metadata": {
        "colab": {
          "base_uri": "https://localhost:8080/"
        },
        "id": "ckbJ_P0sWqcz",
        "outputId": "8f68b2ed-0ee0-4d96-cb37-37614bae9465"
      },
      "execution_count": 8,
      "outputs": [
        {
          "output_type": "stream",
          "name": "stdout",
          "text": [
            "375/375 [==============================] - 19s 50ms/step - loss: 0.2959 - accuracy: 0.8653\n",
            "test loss:  0.2958606481552124\n",
            "test accuracy:  86.53333187103271\n"
          ]
        }
      ]
    },
    {
      "cell_type": "code",
      "source": [
        "y_true =test_generator.classes\n",
        "print(y_true)\n",
        "y_pred=model.predict(test_generator)\n",
        "y_pred=np.argmax(y_pred,axis=1)\n",
        "print(y_pred)\n",
        "cm=confusion_matrix(y_true, y_pred)\n",
        "disp=ConfusionMatrixDisplay(confusion_matrix=cm, display_labels=class_names)\n",
        "disp.plot(cmap=plt.cm.Blues)\n",
        "plt.title('Confusion Matrix')\n",
        "plt.show()"
      ],
      "metadata": {
        "colab": {
          "base_uri": "https://localhost:8080/",
          "height": 524
        },
        "id": "RdBZ2hsioHtk",
        "outputId": "002cf747-6384-4f3b-e768-f6c966a73ed3"
      },
      "execution_count": 15,
      "outputs": [
        {
          "output_type": "stream",
          "name": "stdout",
          "text": [
            "[0 0 0 ... 5 5 5]\n",
            "375/375 [==============================] - 19s 51ms/step\n",
            "[0 0 0 ... 5 5 5]\n"
          ]
        },
        {
          "output_type": "display_data",
          "data": {
            "text/plain": [
              "<Figure size 640x480 with 2 Axes>"
            ],
            "image/png": "[encoded data removed]"
          },
          "metadata": {}
        }
      ]
    },
    {
      "cell_type": "code",
      "source": [
        "from sklearn.metrics import precision_score,recall_score\n",
        "\n",
        "precision = precision_score(y_true, y_pred, average='weighted')\n",
        "recall = recall_score(y_true, y_pred, average='weighted')\n",
        "\n",
        "print(f'Precision: {precision:.4f}')\n",
        "print(f'Recall: {recall:.4f}')"
      ],
      "metadata": {
        "colab": {
          "base_uri": "https://localhost:8080/"
        },
        "id": "DXiDnHayoUg4",
        "outputId": "8a0ba081-a332-4300-b317-02652d40b242"
      },
      "execution_count": 16,
      "outputs": [
        {
          "output_type": "stream",
          "name": "stdout",
          "text": [
            "Precision: 0.8756\n",
            "Recall: 0.8653\n"
          ]
        }
      ]
    },
    {
      "cell_type": "code",
      "source": [
        "model.save('VGG16_Modulation_Multiclass_Classification.h5')"
      ],
      "metadata": {
        "colab": {
          "base_uri": "https://localhost:8080/"
        },
        "id": "7tCLRLyioh5V",
        "outputId": "beb421bf-24b4-4a6b-a0fe-61911d6b8a92"
      },
      "execution_count": 11,
      "outputs": [
        {
          "output_type": "stream",
          "name": "stderr",
          "text": [
            "/usr/local/lib/python3.10/dist-packages/keras/src/engine/training.py:3103: UserWarning: You are saving your model as an HDF5 file via `model.save()`. This file format is considered legacy. We recommend using instead the native Keras format, e.g. `model.save('my_model.keras')`.\n",
            "  saving_api.save_model(\n"
          ]
        }
      ]
    },
    {
      "cell_type": "code",
      "source": [
        "import shutil\n",
        "\n",
        "file_path = '/content/VGG16_Modulation_Multiclass_Classification.h5'\n",
        "\n",
        "# Destination path within a folder in Google Drive\n",
        "destination_path = '/content/drive/My Drive/VGG16_Modulation_Multiclass_Classification.h5'\n",
        "\n",
        "# Copy the file\n",
        "shutil.copy(file_path, destination_path)"
      ],
      "metadata": {
        "colab": {
          "base_uri": "https://localhost:8080/",
          "height": 35
        },
        "id": "5-wz7BeFory8",
        "outputId": "8247c2cd-fa82-4721-8c41-0fb3d55a8f53"
      },
      "execution_count": 12,
      "outputs": [
        {
          "output_type": "execute_result",
          "data": {
            "text/plain": [
              "'/content/drive/My Drive/VGG16_Modulation_Multiclass_Classification.h5'"
            ],
            "application/vnd.google.colaboratory.intrinsic+json": {
              "type": "string"
            }
          },
          "metadata": {},
          "execution_count": 12
        }
      ]
    },
    {
      "cell_type": "code",
      "source": [],
      "metadata": {
        "id": "9Ov1Kn8_pFvF"
      },
      "execution_count": null,
      "outputs": []
    }
  ]
}